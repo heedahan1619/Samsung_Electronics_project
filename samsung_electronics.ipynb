{
 "cells": [
  {
   "cell_type": "markdown",
   "metadata": {},
   "source": [
    "##### 라이브러리"
   ]
  },
  {
   "cell_type": "markdown",
   "metadata": {},
   "source": [
    "###### 라이브러리 설치"
   ]
  },
  {
   "cell_type": "code",
   "execution_count": 1,
   "metadata": {},
   "outputs": [
    {
     "name": "stdout",
     "output_type": "stream",
     "text": [
      "Requirement already satisfied: pandas in c:\\users\\user\\appdata\\local\\programs\\python\\python311\\lib\\site-packages (2.1.0)\n",
      "Requirement already satisfied: numpy>=1.23.2 in c:\\users\\user\\appdata\\local\\programs\\python\\python311\\lib\\site-packages (from pandas) (1.25.2)\n",
      "Requirement already satisfied: python-dateutil>=2.8.2 in c:\\users\\user\\appdata\\local\\programs\\python\\python311\\lib\\site-packages (from pandas) (2.8.2)\n",
      "Requirement already satisfied: pytz>=2020.1 in c:\\users\\user\\appdata\\local\\programs\\python\\python311\\lib\\site-packages (from pandas) (2023.3.post1)\n",
      "Requirement already satisfied: tzdata>=2022.1 in c:\\users\\user\\appdata\\local\\programs\\python\\python311\\lib\\site-packages (from pandas) (2023.3)\n",
      "Requirement already satisfied: six>=1.5 in c:\\users\\user\\appdata\\local\\programs\\python\\python311\\lib\\site-packages (from python-dateutil>=2.8.2->pandas) (1.16.0)\n",
      "Note: you may need to restart the kernel to use updated packages.\n"
     ]
    }
   ],
   "source": [
    "%pip install pandas"
   ]
  },
  {
   "cell_type": "markdown",
   "metadata": {},
   "source": [
    "###### 라이브러리 불러오기"
   ]
  },
  {
   "cell_type": "code",
   "execution_count": 2,
   "metadata": {},
   "outputs": [],
   "source": [
    "import pandas as pd"
   ]
  },
  {
   "cell_type": "markdown",
   "metadata": {},
   "source": [
    "# 기사 데이터 정리 및 통계"
   ]
  },
  {
   "cell_type": "markdown",
   "metadata": {},
   "source": [
    "### 전체 기사 일자별 카운트"
   ]
  },
  {
   "cell_type": "markdown",
   "metadata": {},
   "source": [
    "###### 삼성전자 뉴스 csv 불러오기"
   ]
  },
  {
   "cell_type": "code",
   "execution_count": 19,
   "metadata": {},
   "outputs": [
    {
     "data": {
      "text/html": [
       "<div>\n",
       "<style scoped>\n",
       "    .dataframe tbody tr th:only-of-type {\n",
       "        vertical-align: middle;\n",
       "    }\n",
       "\n",
       "    .dataframe tbody tr th {\n",
       "        vertical-align: top;\n",
       "    }\n",
       "\n",
       "    .dataframe thead th {\n",
       "        text-align: right;\n",
       "    }\n",
       "</style>\n",
       "<table border=\"1\" class=\"dataframe\">\n",
       "  <thead>\n",
       "    <tr style=\"text-align: right;\">\n",
       "      <th></th>\n",
       "      <th>date</th>\n",
       "      <th>category</th>\n",
       "      <th>title</th>\n",
       "      <th>content</th>\n",
       "      <th>reaction</th>\n",
       "    </tr>\n",
       "  </thead>\n",
       "  <tbody>\n",
       "    <tr>\n",
       "      <th>0</th>\n",
       "      <td>2023-08-01 01:15:00</td>\n",
       "      <td>세계</td>\n",
       "      <td>니제르 쿠데타 군부 \"프랑스, 군사개입 공모\" 비난(종합)</td>\n",
       "      <td>전임 대통령 아들 포함 각료 4명·여당 대표 체포 중재 나선 차드 수반, '억류중'...</td>\n",
       "      <td>{'쏠쏠정보': '0', '흥미진진': '0', '공감백배': '0', '분석탁월'...</td>\n",
       "    </tr>\n",
       "    <tr>\n",
       "      <th>1</th>\n",
       "      <td>2023-08-01 01:20:00</td>\n",
       "      <td>세계</td>\n",
       "      <td>Trilateral summit of S. Korea, Japan, U.S. to ...</td>\n",
       "      <td>S Korea-US-Japan Trilateral summit of S. Korea...</td>\n",
       "      <td>{'쏠쏠정보': '0', '흥미진진': '0', '공감백배': '0', '분석탁월'...</td>\n",
       "    </tr>\n",
       "    <tr>\n",
       "      <th>2</th>\n",
       "      <td>2023-08-01 01:26:00</td>\n",
       "      <td>정치</td>\n",
       "      <td>필리핀 간 EU 수장, 中겨냥 작심발언…\"불법 무력사용 용인불가\"(종합)</td>\n",
       "      <td>신냉전 전 속 美 이어 EU도 필리핀과 관계 개선 모색…FTA 협상 재개키로  정빛...</td>\n",
       "      <td>{'쏠쏠정보': '0', '흥미진진': '0', '공감백배': 5, '분석탁월': ...</td>\n",
       "    </tr>\n",
       "    <tr>\n",
       "      <th>3</th>\n",
       "      <td>2023-08-01 02:10:00</td>\n",
       "      <td>세계</td>\n",
       "      <td>머스크 엑스, SNS연구단체에 소송 위협…\"광고주 몰아내려 음모\"</td>\n",
       "      <td>엑스 \"CCDH, 우리 경쟁사서 자금지원 받아\"…CCDH \"비판에 재갈 물리려는 것...</td>\n",
       "      <td>{'쏠쏠정보': '0', '흥미진진': '0', '공감백배': '0', '분석탁월'...</td>\n",
       "    </tr>\n",
       "    <tr>\n",
       "      <th>4</th>\n",
       "      <td>2023-08-01 02:11:00</td>\n",
       "      <td>세계</td>\n",
       "      <td>러 가스차단 겪은 유럽, '우라늄대국' 니제르 쿠데타에 전전긍긍</td>\n",
       "      <td>EU 우라늄 수입 20% 차지…원전 의존도 높은 프랑스도 '벌벌' \"니제르 사태 악...</td>\n",
       "      <td>{'쏠쏠정보': 3, '흥미진진': '0', '공감백배': 3, '분석탁월': 2,...</td>\n",
       "    </tr>\n",
       "  </tbody>\n",
       "</table>\n",
       "</div>"
      ],
      "text/plain": [
       "                  date category  \\\n",
       "0  2023-08-01 01:15:00       세계   \n",
       "1  2023-08-01 01:20:00       세계   \n",
       "2  2023-08-01 01:26:00       정치   \n",
       "3  2023-08-01 02:10:00       세계   \n",
       "4  2023-08-01 02:11:00       세계   \n",
       "\n",
       "                                               title  \\\n",
       "0                   니제르 쿠데타 군부 \"프랑스, 군사개입 공모\" 비난(종합)   \n",
       "1  Trilateral summit of S. Korea, Japan, U.S. to ...   \n",
       "2           필리핀 간 EU 수장, 中겨냥 작심발언…\"불법 무력사용 용인불가\"(종합)   \n",
       "3               머스크 엑스, SNS연구단체에 소송 위협…\"광고주 몰아내려 음모\"   \n",
       "4                러 가스차단 겪은 유럽, '우라늄대국' 니제르 쿠데타에 전전긍긍   \n",
       "\n",
       "                                             content  \\\n",
       "0  전임 대통령 아들 포함 각료 4명·여당 대표 체포 중재 나선 차드 수반, '억류중'...   \n",
       "1  S Korea-US-Japan Trilateral summit of S. Korea...   \n",
       "2  신냉전 전 속 美 이어 EU도 필리핀과 관계 개선 모색…FTA 협상 재개키로  정빛...   \n",
       "3  엑스 \"CCDH, 우리 경쟁사서 자금지원 받아\"…CCDH \"비판에 재갈 물리려는 것...   \n",
       "4  EU 우라늄 수입 20% 차지…원전 의존도 높은 프랑스도 '벌벌' \"니제르 사태 악...   \n",
       "\n",
       "                                            reaction  \n",
       "0  {'쏠쏠정보': '0', '흥미진진': '0', '공감백배': '0', '분석탁월'...  \n",
       "1  {'쏠쏠정보': '0', '흥미진진': '0', '공감백배': '0', '분석탁월'...  \n",
       "2  {'쏠쏠정보': '0', '흥미진진': '0', '공감백배': 5, '분석탁월': ...  \n",
       "3  {'쏠쏠정보': '0', '흥미진진': '0', '공감백배': '0', '분석탁월'...  \n",
       "4  {'쏠쏠정보': 3, '흥미진진': '0', '공감백배': 3, '분석탁월': 2,...  "
      ]
     },
     "execution_count": 19,
     "metadata": {},
     "output_type": "execute_result"
    }
   ],
   "source": [
    "df_news = pd.read_csv(\"naver_news/naver_news_20230801_20230831.csv\")\n",
    "df_news.head()"
   ]
  },
  {
   "cell_type": "markdown",
   "metadata": {},
   "source": [
    "###### date 열 데이터 변경"
   ]
  },
  {
   "cell_type": "code",
   "execution_count": 20,
   "metadata": {},
   "outputs": [
    {
     "data": {
      "text/html": [
       "<div>\n",
       "<style scoped>\n",
       "    .dataframe tbody tr th:only-of-type {\n",
       "        vertical-align: middle;\n",
       "    }\n",
       "\n",
       "    .dataframe tbody tr th {\n",
       "        vertical-align: top;\n",
       "    }\n",
       "\n",
       "    .dataframe thead th {\n",
       "        text-align: right;\n",
       "    }\n",
       "</style>\n",
       "<table border=\"1\" class=\"dataframe\">\n",
       "  <thead>\n",
       "    <tr style=\"text-align: right;\">\n",
       "      <th></th>\n",
       "      <th>date</th>\n",
       "      <th>category</th>\n",
       "      <th>title</th>\n",
       "      <th>content</th>\n",
       "      <th>reaction</th>\n",
       "    </tr>\n",
       "  </thead>\n",
       "  <tbody>\n",
       "    <tr>\n",
       "      <th>0</th>\n",
       "      <td>20230801</td>\n",
       "      <td>세계</td>\n",
       "      <td>니제르 쿠데타 군부 \"프랑스, 군사개입 공모\" 비난(종합)</td>\n",
       "      <td>전임 대통령 아들 포함 각료 4명·여당 대표 체포 중재 나선 차드 수반, '억류중'...</td>\n",
       "      <td>{'쏠쏠정보': '0', '흥미진진': '0', '공감백배': '0', '분석탁월'...</td>\n",
       "    </tr>\n",
       "    <tr>\n",
       "      <th>1</th>\n",
       "      <td>20230801</td>\n",
       "      <td>세계</td>\n",
       "      <td>Trilateral summit of S. Korea, Japan, U.S. to ...</td>\n",
       "      <td>S Korea-US-Japan Trilateral summit of S. Korea...</td>\n",
       "      <td>{'쏠쏠정보': '0', '흥미진진': '0', '공감백배': '0', '분석탁월'...</td>\n",
       "    </tr>\n",
       "    <tr>\n",
       "      <th>2</th>\n",
       "      <td>20230801</td>\n",
       "      <td>정치</td>\n",
       "      <td>필리핀 간 EU 수장, 中겨냥 작심발언…\"불법 무력사용 용인불가\"(종합)</td>\n",
       "      <td>신냉전 전 속 美 이어 EU도 필리핀과 관계 개선 모색…FTA 협상 재개키로  정빛...</td>\n",
       "      <td>{'쏠쏠정보': '0', '흥미진진': '0', '공감백배': 5, '분석탁월': ...</td>\n",
       "    </tr>\n",
       "    <tr>\n",
       "      <th>3</th>\n",
       "      <td>20230801</td>\n",
       "      <td>세계</td>\n",
       "      <td>머스크 엑스, SNS연구단체에 소송 위협…\"광고주 몰아내려 음모\"</td>\n",
       "      <td>엑스 \"CCDH, 우리 경쟁사서 자금지원 받아\"…CCDH \"비판에 재갈 물리려는 것...</td>\n",
       "      <td>{'쏠쏠정보': '0', '흥미진진': '0', '공감백배': '0', '분석탁월'...</td>\n",
       "    </tr>\n",
       "    <tr>\n",
       "      <th>4</th>\n",
       "      <td>20230801</td>\n",
       "      <td>세계</td>\n",
       "      <td>러 가스차단 겪은 유럽, '우라늄대국' 니제르 쿠데타에 전전긍긍</td>\n",
       "      <td>EU 우라늄 수입 20% 차지…원전 의존도 높은 프랑스도 '벌벌' \"니제르 사태 악...</td>\n",
       "      <td>{'쏠쏠정보': 3, '흥미진진': '0', '공감백배': 3, '분석탁월': 2,...</td>\n",
       "    </tr>\n",
       "  </tbody>\n",
       "</table>\n",
       "</div>"
      ],
      "text/plain": [
       "       date category                                              title  \\\n",
       "0  20230801       세계                   니제르 쿠데타 군부 \"프랑스, 군사개입 공모\" 비난(종합)   \n",
       "1  20230801       세계  Trilateral summit of S. Korea, Japan, U.S. to ...   \n",
       "2  20230801       정치           필리핀 간 EU 수장, 中겨냥 작심발언…\"불법 무력사용 용인불가\"(종합)   \n",
       "3  20230801       세계               머스크 엑스, SNS연구단체에 소송 위협…\"광고주 몰아내려 음모\"   \n",
       "4  20230801       세계                러 가스차단 겪은 유럽, '우라늄대국' 니제르 쿠데타에 전전긍긍   \n",
       "\n",
       "                                             content  \\\n",
       "0  전임 대통령 아들 포함 각료 4명·여당 대표 체포 중재 나선 차드 수반, '억류중'...   \n",
       "1  S Korea-US-Japan Trilateral summit of S. Korea...   \n",
       "2  신냉전 전 속 美 이어 EU도 필리핀과 관계 개선 모색…FTA 협상 재개키로  정빛...   \n",
       "3  엑스 \"CCDH, 우리 경쟁사서 자금지원 받아\"…CCDH \"비판에 재갈 물리려는 것...   \n",
       "4  EU 우라늄 수입 20% 차지…원전 의존도 높은 프랑스도 '벌벌' \"니제르 사태 악...   \n",
       "\n",
       "                                            reaction  \n",
       "0  {'쏠쏠정보': '0', '흥미진진': '0', '공감백배': '0', '분석탁월'...  \n",
       "1  {'쏠쏠정보': '0', '흥미진진': '0', '공감백배': '0', '분석탁월'...  \n",
       "2  {'쏠쏠정보': '0', '흥미진진': '0', '공감백배': 5, '분석탁월': ...  \n",
       "3  {'쏠쏠정보': '0', '흥미진진': '0', '공감백배': '0', '분석탁월'...  \n",
       "4  {'쏠쏠정보': 3, '흥미진진': '0', '공감백배': 3, '분석탁월': 2,...  "
      ]
     },
     "execution_count": 20,
     "metadata": {},
     "output_type": "execute_result"
    }
   ],
   "source": [
    "df_news[\"date\"] = df_news[\"date\"].apply(lambda x: x.split()[0].replace(\"-\", \"\"))\n",
    "df_news.head()"
   ]
  },
  {
   "cell_type": "markdown",
   "metadata": {},
   "source": [
    "###### 전체 기사 일자별 카운트"
   ]
  },
  {
   "cell_type": "code",
   "execution_count": 21,
   "metadata": {},
   "outputs": [
    {
     "data": {
      "text/plain": [
       "[{'날짜': '20230801', '전체': 939},\n",
       " {'날짜': '20230802', '전체': 1012},\n",
       " {'날짜': '20230803', '전체': 1119},\n",
       " {'날짜': '20230804', '전체': 854},\n",
       " {'날짜': '20230805', '전체': 381},\n",
       " {'날짜': '20230806', '전체': 552},\n",
       " {'날짜': '20230807', '전체': 839},\n",
       " {'날짜': '20230808', '전체': 1059},\n",
       " {'날짜': '20230809', '전체': 1034},\n",
       " {'날짜': '20230810', '전체': 1176},\n",
       " {'날짜': '20230811', '전체': 841},\n",
       " {'날짜': '20230812', '전체': 251},\n",
       " {'날짜': '20230813', '전체': 414},\n",
       " {'날짜': '20230814', '전체': 863},\n",
       " {'날짜': '20230815', '전체': 526},\n",
       " {'날짜': '20230816', '전체': 1029},\n",
       " {'날짜': '20230817', '전체': 1044},\n",
       " {'날짜': '20230818', '전체': 855},\n",
       " {'날짜': '20230819', '전체': 287},\n",
       " {'날짜': '20230820', '전체': 428},\n",
       " {'날짜': '20230821', '전체': 877},\n",
       " {'날짜': '20230822', '전체': 997},\n",
       " {'날짜': '20230823', '전체': 1094},\n",
       " {'날짜': '20230824', '전체': 1265},\n",
       " {'날짜': '20230825', '전체': 838},\n",
       " {'날짜': '20230826', '전체': 238},\n",
       " {'날짜': '20230827', '전체': 380},\n",
       " {'날짜': '20230828', '전체': 943},\n",
       " {'날짜': '20230829', '전체': 1101},\n",
       " {'날짜': '20230830', '전체': 1086},\n",
       " {'날짜': '20230831', '전체': 1111}]"
      ]
     },
     "execution_count": 21,
     "metadata": {},
     "output_type": "execute_result"
    }
   ],
   "source": [
    "all = []\n",
    "for day in range(1, 32):\n",
    "    date_str = f\"202308{day:02d}\"\n",
    "    count_all = len(df_news.loc[df_news[\"date\"] == date_str])\n",
    "    all.append({\"날짜\":date_str, \"전체\":count_all})\n",
    "\n",
    "all"
   ]
  },
  {
   "cell_type": "markdown",
   "metadata": {},
   "source": [
    "###### 데이터프레임 생성"
   ]
  },
  {
   "cell_type": "code",
   "execution_count": 22,
   "metadata": {},
   "outputs": [
    {
     "data": {
      "text/html": [
       "<div>\n",
       "<style scoped>\n",
       "    .dataframe tbody tr th:only-of-type {\n",
       "        vertical-align: middle;\n",
       "    }\n",
       "\n",
       "    .dataframe tbody tr th {\n",
       "        vertical-align: top;\n",
       "    }\n",
       "\n",
       "    .dataframe thead th {\n",
       "        text-align: right;\n",
       "    }\n",
       "</style>\n",
       "<table border=\"1\" class=\"dataframe\">\n",
       "  <thead>\n",
       "    <tr style=\"text-align: right;\">\n",
       "      <th></th>\n",
       "      <th>날짜</th>\n",
       "      <th>전체</th>\n",
       "    </tr>\n",
       "  </thead>\n",
       "  <tbody>\n",
       "    <tr>\n",
       "      <th>0</th>\n",
       "      <td>20230801</td>\n",
       "      <td>939</td>\n",
       "    </tr>\n",
       "    <tr>\n",
       "      <th>1</th>\n",
       "      <td>20230802</td>\n",
       "      <td>1012</td>\n",
       "    </tr>\n",
       "    <tr>\n",
       "      <th>2</th>\n",
       "      <td>20230803</td>\n",
       "      <td>1119</td>\n",
       "    </tr>\n",
       "    <tr>\n",
       "      <th>3</th>\n",
       "      <td>20230804</td>\n",
       "      <td>854</td>\n",
       "    </tr>\n",
       "    <tr>\n",
       "      <th>4</th>\n",
       "      <td>20230805</td>\n",
       "      <td>381</td>\n",
       "    </tr>\n",
       "  </tbody>\n",
       "</table>\n",
       "</div>"
      ],
      "text/plain": [
       "         날짜    전체\n",
       "0  20230801   939\n",
       "1  20230802  1012\n",
       "2  20230803  1119\n",
       "3  20230804   854\n",
       "4  20230805   381"
      ]
     },
     "execution_count": 22,
     "metadata": {},
     "output_type": "execute_result"
    }
   ],
   "source": [
    "count_all = pd.DataFrame(all)\n",
    "count_all.head()"
   ]
  }
 ],
 "metadata": {
  "kernelspec": {
   "display_name": "Python 3",
   "language": "python",
   "name": "python3"
  },
  "language_info": {
   "codemirror_mode": {
    "name": "ipython",
    "version": 3
   },
   "file_extension": ".py",
   "mimetype": "text/x-python",
   "name": "python",
   "nbconvert_exporter": "python",
   "pygments_lexer": "ipython3",
   "version": "3.11.5"
  }
 },
 "nbformat": 4,
 "nbformat_minor": 2
}
